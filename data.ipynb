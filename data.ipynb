{
 "cells": [
  {
   "cell_type": "code",
   "execution_count": 40,
   "id": "254691a8",
   "metadata": {},
   "outputs": [],
   "source": [
    "import numpy as np\n",
    "import pandas as pd\n",
    "import yfinance as yf\n",
    "import matplotlib.pyplot as plt\n",
    "import datetime"
   ]
  },
  {
   "cell_type": "code",
   "execution_count": 41,
   "id": "2699863b",
   "metadata": {},
   "outputs": [],
   "source": [
    "# import to ignore warnings\n",
    "import warnings\n",
    "warnings.filterwarnings(\"ignore\")"
   ]
  },
  {
   "cell_type": "code",
   "execution_count": 42,
   "id": "2aa13abe",
   "metadata": {},
   "outputs": [],
   "source": [
    "from sklearn.preprocessing import MinMaxScaler"
   ]
  },
  {
   "cell_type": "code",
   "execution_count": 43,
   "id": "eeff7783",
   "metadata": {},
   "outputs": [],
   "source": [
    "import tensorflow as tf\n",
    "from tensorflow.keras.models import Sequential\n",
    "from tensorflow.keras.layers import LSTM, Dense, Dropout"
   ]
  },
  {
   "cell_type": "markdown",
   "id": "8e733230",
   "metadata": {},
   "source": [
    "##### 1.Load the stock data from Yahoo Finance"
   ]
  },
  {
   "cell_type": "markdown",
   "id": "8373aa4f",
   "metadata": {},
   "source": [
    "###### Dowload Stock Data"
   ]
  },
  {
   "cell_type": "code",
   "execution_count": 44,
   "id": "27f87121",
   "metadata": {},
   "outputs": [],
   "source": [
    "# Choose a stock ticker symbol, e.g., 'AAPL' for Apple Inc.\n",
    "ticker = 'AAPL'"
   ]
  },
  {
   "cell_type": "markdown",
   "id": "3ef8c9db",
   "metadata": {},
   "source": [
    "###### # Download historical data from Yahoo Finance"
   ]
  },
  {
   "cell_type": "code",
   "execution_count": 45,
   "id": "d3031f86",
   "metadata": {},
   "outputs": [
    {
     "name": "stderr",
     "output_type": "stream",
     "text": [
      "[*********************100%***********************]  1 of 1 completed\n"
     ]
    }
   ],
   "source": [
    "data = yf.download(ticker, start='2020-01-01', end=datetime.datetime.today().strftime('%Y-%m-%d'))\n",
    "# Focus on 'Close' prices for simplicity\n",
    "data = data[['Close']]"
   ]
  },
  {
   "cell_type": "markdown",
   "id": "41bd0a14",
   "metadata": {},
   "source": [
    "##### 2.Preprocess and Scale the Data"
   ]
  },
  {
   "cell_type": "code",
   "execution_count": 46,
   "id": "237a5aa4",
   "metadata": {},
   "outputs": [],
   "source": [
    "scaler = MinMaxScaler(feature_range=(0,1))\n",
    "scaled_data = scaler.fit_transform(data)"
   ]
  },
  {
   "cell_type": "markdown",
   "id": "1b500815",
   "metadata": {},
   "source": [
    "#### Step 3: Prepare Training Data"
   ]
  },
  {
   "cell_type": "code",
   "execution_count": 47,
   "id": "d8a9707b",
   "metadata": {},
   "outputs": [],
   "source": [
    "# Define training data length as 80% of the total data\n",
    "training_data_len = int(np.ceil(len(scaled_data) * 0.8))\n",
    "\n",
    "# Split the scaled data into the training set\n",
    "train_data = scaled_data[0:int(training_data_len), :]"
   ]
  },
  {
   "cell_type": "code",
   "execution_count": 48,
   "id": "33ffe6b4",
   "metadata": {},
   "outputs": [],
   "source": [
    "x_train=[]\n",
    "y_train=[]"
   ]
  },
  {
   "cell_type": "code",
   "execution_count": 49,
   "id": "1b266222",
   "metadata": {},
   "outputs": [],
   "source": [
    "for i in range (60,len(train_data)):\n",
    "    x_train.append(train_data[i-60:i,0])#for past 60 days\n",
    "    y_train.append(train_data[i,0])#for the  nextdays close price"
   ]
  },
  {
   "cell_type": "code",
   "execution_count": 50,
   "id": "88f86522",
   "metadata": {},
   "outputs": [],
   "source": [
    "# Convert lists to numpy arrays for model training\n",
    "x_train, y_train = np.array(x_train), np.array(y_train)"
   ]
  },
  {
   "cell_type": "code",
   "execution_count": 51,
   "id": "cf25c322",
   "metadata": {},
   "outputs": [],
   "source": [
    "#reshape x_train to the format [samples, time steps, features] required for LSTM\n",
    "x_train = np.reshape(x_train, (x_train.shape[0], x_train.shape[1], 1))"
   ]
  },
  {
   "cell_type": "markdown",
   "id": "d939fced",
   "metadata": {},
   "source": [
    "##### 4.Build LSTM Model"
   ]
  },
  {
   "cell_type": "code",
   "execution_count": 52,
   "id": "4d503d43",
   "metadata": {},
   "outputs": [],
   "source": [
    "model=Sequential()"
   ]
  },
  {
   "cell_type": "code",
   "execution_count": 53,
   "id": "1796b6ca",
   "metadata": {},
   "outputs": [],
   "source": [
    "# First LSTM layer with 50 units and return sequences\n",
    "model.add(LSTM(units=50, return_sequences=True, input_shape=(x_train.shape[1], 1)))\n",
    "model.add(Dropout(0.2))  # Dropout layer to prevent overfitting"
   ]
  },
  {
   "cell_type": "code",
   "execution_count": 54,
   "id": "e2b3d261",
   "metadata": {},
   "outputs": [],
   "source": [
    "# Second LSTM layer\n",
    "model.add(LSTM(units=50, return_sequences=False))\n",
    "model.add(Dropout(0.2))  # Dropout layer to prevent overfitting\n"
   ]
  },
  {
   "cell_type": "code",
   "execution_count": 55,
   "id": "ca3433b9",
   "metadata": {},
   "outputs": [],
   "source": [
    "# Dense layer with 25 units\n",
    "model.add(Dense(units=25))\n",
    "model.add(Dense(units=1))"
   ]
  },
  {
   "cell_type": "code",
   "execution_count": 56,
   "id": "e26fbd1d",
   "metadata": {},
   "outputs": [],
   "source": [
    "# Compile the model using Adam optimizer and mean squared error as the loss function\n",
    "model.compile(optimizer='adam', loss='mean_squared_error')"
   ]
  },
  {
   "cell_type": "markdown",
   "id": "2d3063e2",
   "metadata": {},
   "source": [
    "##### 5.Train the model with the training data."
   ]
  },
  {
   "cell_type": "code",
   "execution_count": 57,
   "id": "10a9ba84",
   "metadata": {},
   "outputs": [
    {
     "name": "stdout",
     "output_type": "stream",
     "text": [
      "Epoch 1/10\n",
      "\u001b[1m1110/1110\u001b[0m \u001b[32m━━━━━━━━━━━━━━━━━━━━\u001b[0m\u001b[37m\u001b[0m \u001b[1m13s\u001b[0m 10ms/step - loss: 0.0045\n",
      "Epoch 2/10\n",
      "\u001b[1m1110/1110\u001b[0m \u001b[32m━━━━━━━━━━━━━━━━━━━━\u001b[0m\u001b[37m\u001b[0m \u001b[1m12s\u001b[0m 11ms/step - loss: 0.0015\n",
      "Epoch 3/10\n",
      "\u001b[1m1110/1110\u001b[0m \u001b[32m━━━━━━━━━━━━━━━━━━━━\u001b[0m\u001b[37m\u001b[0m \u001b[1m14s\u001b[0m 12ms/step - loss: 0.0012\n",
      "Epoch 4/10\n",
      "\u001b[1m1110/1110\u001b[0m \u001b[32m━━━━━━━━━━━━━━━━━━━━\u001b[0m\u001b[37m\u001b[0m \u001b[1m19s\u001b[0m 17ms/step - loss: 0.0012\n",
      "Epoch 5/10\n",
      "\u001b[1m1110/1110\u001b[0m \u001b[32m━━━━━━━━━━━━━━━━━━━━\u001b[0m\u001b[37m\u001b[0m \u001b[1m19s\u001b[0m 17ms/step - loss: 0.0011   \n",
      "Epoch 6/10\n",
      "\u001b[1m1110/1110\u001b[0m \u001b[32m━━━━━━━━━━━━━━━━━━━━\u001b[0m\u001b[37m\u001b[0m \u001b[1m17s\u001b[0m 15ms/step - loss: 0.0011\n",
      "Epoch 7/10\n",
      "\u001b[1m1110/1110\u001b[0m \u001b[32m━━━━━━━━━━━━━━━━━━━━\u001b[0m\u001b[37m\u001b[0m \u001b[1m12s\u001b[0m 11ms/step - loss: 0.0010\n",
      "Epoch 8/10\n",
      "\u001b[1m1110/1110\u001b[0m \u001b[32m━━━━━━━━━━━━━━━━━━━━\u001b[0m\u001b[37m\u001b[0m \u001b[1m15s\u001b[0m 13ms/step - loss: 9.4377e-04\n",
      "Epoch 9/10\n",
      "\u001b[1m1110/1110\u001b[0m \u001b[32m━━━━━━━━━━━━━━━━━━━━\u001b[0m\u001b[37m\u001b[0m \u001b[1m16s\u001b[0m 14ms/step - loss: 0.0010   \n",
      "Epoch 10/10\n",
      "\u001b[1m1110/1110\u001b[0m \u001b[32m━━━━━━━━━━━━━━━━━━━━\u001b[0m\u001b[37m\u001b[0m \u001b[1m12s\u001b[0m 11ms/step - loss: 8.9492e-04\n"
     ]
    },
    {
     "data": {
      "text/plain": [
       "<keras.src.callbacks.history.History at 0x124a0c136b0>"
      ]
     },
     "execution_count": 57,
     "metadata": {},
     "output_type": "execute_result"
    }
   ],
   "source": [
    "model.fit(x_train,y_train,batch_size=1,epochs=10)"
   ]
  },
  {
   "cell_type": "markdown",
   "id": "a1bd98a3",
   "metadata": {},
   "source": [
    "##### 6.Prepare data for generating future predictions."
   ]
  },
  {
   "cell_type": "code",
   "execution_count": 58,
   "id": "ad89375f",
   "metadata": {},
   "outputs": [],
   "source": [
    "# Take the last 60 days from the dataset for generating future predictions\n",
    "last_60_days = scaled_data[-60:]"
   ]
  },
  {
   "cell_type": "code",
   "execution_count": 59,
   "id": "750ece2c",
   "metadata": {},
   "outputs": [],
   "source": [
    "# Reshape last_60_days to fit the model input shape (1 sample, 60 timesteps, 1 feature)\n",
    "x_future = last_60_days.reshape((1, last_60_days.shape[0], 1))"
   ]
  },
  {
   "cell_type": "markdown",
   "id": "244f342d",
   "metadata": {},
   "source": [
    "##### 7.Generate 30-day Forecast"
   ]
  },
  {
   "cell_type": "code",
   "execution_count": 60,
   "id": "3802c539",
   "metadata": {},
   "outputs": [
    {
     "name": "stdout",
     "output_type": "stream",
     "text": [
      "\u001b[1m1/1\u001b[0m \u001b[32m━━━━━━━━━━━━━━━━━━━━\u001b[0m\u001b[37m\u001b[0m \u001b[1m0s\u001b[0m 195ms/step\n",
      "\u001b[1m1/1\u001b[0m \u001b[32m━━━━━━━━━━━━━━━━━━━━\u001b[0m\u001b[37m\u001b[0m \u001b[1m0s\u001b[0m 29ms/step\n",
      "\u001b[1m1/1\u001b[0m \u001b[32m━━━━━━━━━━━━━━━━━━━━\u001b[0m\u001b[37m\u001b[0m \u001b[1m0s\u001b[0m 29ms/step\n",
      "\u001b[1m1/1\u001b[0m \u001b[32m━━━━━━━━━━━━━━━━━━━━\u001b[0m\u001b[37m\u001b[0m \u001b[1m0s\u001b[0m 26ms/step\n",
      "\u001b[1m1/1\u001b[0m \u001b[32m━━━━━━━━━━━━━━━━━━━━\u001b[0m\u001b[37m\u001b[0m \u001b[1m0s\u001b[0m 30ms/step\n",
      "\u001b[1m1/1\u001b[0m \u001b[32m━━━━━━━━━━━━━━━━━━━━\u001b[0m\u001b[37m\u001b[0m \u001b[1m0s\u001b[0m 28ms/step\n",
      "\u001b[1m1/1\u001b[0m \u001b[32m━━━━━━━━━━━━━━━━━━━━\u001b[0m\u001b[37m\u001b[0m \u001b[1m0s\u001b[0m 25ms/step\n",
      "\u001b[1m1/1\u001b[0m \u001b[32m━━━━━━━━━━━━━━━━━━━━\u001b[0m\u001b[37m\u001b[0m \u001b[1m0s\u001b[0m 25ms/step\n",
      "\u001b[1m1/1\u001b[0m \u001b[32m━━━━━━━━━━━━━━━━━━━━\u001b[0m\u001b[37m\u001b[0m \u001b[1m0s\u001b[0m 28ms/step\n",
      "\u001b[1m1/1\u001b[0m \u001b[32m━━━━━━━━━━━━━━━━━━━━\u001b[0m\u001b[37m\u001b[0m \u001b[1m0s\u001b[0m 27ms/step\n",
      "\u001b[1m1/1\u001b[0m \u001b[32m━━━━━━━━━━━━━━━━━━━━\u001b[0m\u001b[37m\u001b[0m \u001b[1m0s\u001b[0m 26ms/step\n",
      "\u001b[1m1/1\u001b[0m \u001b[32m━━━━━━━━━━━━━━━━━━━━\u001b[0m\u001b[37m\u001b[0m \u001b[1m0s\u001b[0m 27ms/step\n",
      "\u001b[1m1/1\u001b[0m \u001b[32m━━━━━━━━━━━━━━━━━━━━\u001b[0m\u001b[37m\u001b[0m \u001b[1m0s\u001b[0m 32ms/step\n",
      "\u001b[1m1/1\u001b[0m \u001b[32m━━━━━━━━━━━━━━━━━━━━\u001b[0m\u001b[37m\u001b[0m \u001b[1m0s\u001b[0m 32ms/step\n",
      "\u001b[1m1/1\u001b[0m \u001b[32m━━━━━━━━━━━━━━━━━━━━\u001b[0m\u001b[37m\u001b[0m \u001b[1m0s\u001b[0m 29ms/step\n",
      "\u001b[1m1/1\u001b[0m \u001b[32m━━━━━━━━━━━━━━━━━━━━\u001b[0m\u001b[37m\u001b[0m \u001b[1m0s\u001b[0m 30ms/step\n",
      "\u001b[1m1/1\u001b[0m \u001b[32m━━━━━━━━━━━━━━━━━━━━\u001b[0m\u001b[37m\u001b[0m \u001b[1m0s\u001b[0m 31ms/step\n",
      "\u001b[1m1/1\u001b[0m \u001b[32m━━━━━━━━━━━━━━━━━━━━\u001b[0m\u001b[37m\u001b[0m \u001b[1m0s\u001b[0m 28ms/step\n",
      "\u001b[1m1/1\u001b[0m \u001b[32m━━━━━━━━━━━━━━━━━━━━\u001b[0m\u001b[37m\u001b[0m \u001b[1m0s\u001b[0m 28ms/step\n",
      "\u001b[1m1/1\u001b[0m \u001b[32m━━━━━━━━━━━━━━━━━━━━\u001b[0m\u001b[37m\u001b[0m \u001b[1m0s\u001b[0m 31ms/step\n",
      "\u001b[1m1/1\u001b[0m \u001b[32m━━━━━━━━━━━━━━━━━━━━\u001b[0m\u001b[37m\u001b[0m \u001b[1m0s\u001b[0m 27ms/step\n",
      "\u001b[1m1/1\u001b[0m \u001b[32m━━━━━━━━━━━━━━━━━━━━\u001b[0m\u001b[37m\u001b[0m \u001b[1m0s\u001b[0m 28ms/step\n",
      "\u001b[1m1/1\u001b[0m \u001b[32m━━━━━━━━━━━━━━━━━━━━\u001b[0m\u001b[37m\u001b[0m \u001b[1m0s\u001b[0m 26ms/step\n",
      "\u001b[1m1/1\u001b[0m \u001b[32m━━━━━━━━━━━━━━━━━━━━\u001b[0m\u001b[37m\u001b[0m \u001b[1m0s\u001b[0m 29ms/step\n",
      "\u001b[1m1/1\u001b[0m \u001b[32m━━━━━━━━━━━━━━━━━━━━\u001b[0m\u001b[37m\u001b[0m \u001b[1m0s\u001b[0m 33ms/step\n",
      "\u001b[1m1/1\u001b[0m \u001b[32m━━━━━━━━━━━━━━━━━━━━\u001b[0m\u001b[37m\u001b[0m \u001b[1m0s\u001b[0m 33ms/step\n",
      "\u001b[1m1/1\u001b[0m \u001b[32m━━━━━━━━━━━━━━━━━━━━\u001b[0m\u001b[37m\u001b[0m \u001b[1m0s\u001b[0m 32ms/step\n",
      "\u001b[1m1/1\u001b[0m \u001b[32m━━━━━━━━━━━━━━━━━━━━\u001b[0m\u001b[37m\u001b[0m \u001b[1m0s\u001b[0m 53ms/step\n",
      "\u001b[1m1/1\u001b[0m \u001b[32m━━━━━━━━━━━━━━━━━━━━\u001b[0m\u001b[37m\u001b[0m \u001b[1m0s\u001b[0m 38ms/step\n",
      "\u001b[1m1/1\u001b[0m \u001b[32m━━━━━━━━━━━━━━━━━━━━\u001b[0m\u001b[37m\u001b[0m \u001b[1m0s\u001b[0m 41ms/step\n"
     ]
    }
   ],
   "source": [
    "future_predictions = [] #for 30days\n",
    "for _ in range(30):  # Change 30 to 60 to predict for 60 days\n",
    "    # Predict the next day’s closing price based on the last 60 days\n",
    "    pred = model.predict(x_future)\n",
    "    future_predictions.append(pred[0, 0])  # Add prediction to the list"
   ]
  },
  {
   "cell_type": "code",
   "execution_count": 61,
   "id": "63f4ded9",
   "metadata": {},
   "outputs": [],
   "source": [
    "# Update x_future with the new prediction by removing the first value and adding the new prediction\n",
    "x_future = np.append(x_future[:, 1:, :], [[pred[0]]], axis=1)"
   ]
  },
  {
   "cell_type": "markdown",
   "id": "5699bb58",
   "metadata": {},
   "source": [
    "##### Step 8: Transform Predictions Back to Original Scale"
   ]
  },
  {
   "cell_type": "code",
   "execution_count": 62,
   "id": "212fd7f9",
   "metadata": {},
   "outputs": [],
   "source": [
    "# Convert the scaled predictions back to the original scale using inverse_transform\n",
    "future_predictions = scaler.inverse_transform(np.array(future_predictions).reshape(-1, 1))"
   ]
  },
  {
   "cell_type": "markdown",
   "id": "57972352",
   "metadata": {},
   "source": [
    "##### 9.Visualize the Results"
   ]
  },
  {
   "cell_type": "code",
   "execution_count": 63,
   "id": "c3ff936d",
   "metadata": {},
   "outputs": [],
   "source": [
    "# Create a DataFrame to hold the 30-day forecast with dates\n",
    "forecast_dates = pd.date_range(start=data.index[-1] + pd.Timedelta(days=1), periods=30, freq='B')\n",
    "forecast = pd.DataFrame(future_predictions, index=forecast_dates, columns=['Prediction'])"
   ]
  },
  {
   "cell_type": "markdown",
   "id": "b0ef9962",
   "metadata": {},
   "source": [
    "##### Plot historical data and future predictions for comparison\n"
   ]
  },
  {
   "cell_type": "code",
   "execution_count": 64,
   "id": "33dbfeed",
   "metadata": {},
   "outputs": [
    {
     "data": {
      "image/png": "[encoded data removed]",
      "text/plain": [
       "<Figure size 1000x500 with 1 Axes>"
      ]
     },
     "metadata": {},
     "output_type": "display_data"
    }
   ],
   "source": [
    "plt.figure(figsize=(10, 5))\n",
    "plt.plot(data['Close'], label='Historical Prices')\n",
    "plt.plot(forecast, label='30-Day Forecast', linestyle='--')\n",
    "plt.xlabel('Date')\n",
    "plt.ylabel('Stock Price')\n",
    "plt.legend()\n",
    "plt.show()"
   ]
  },
  {
   "cell_type": "markdown",
   "id": "3df1595d",
   "metadata": {},
   "source": [
    "##### Moving Average & RSI"
   ]
  },
  {
   "cell_type": "code",
   "execution_count": 65,
   "id": "76a9f6b2",
   "metadata": {},
   "outputs": [],
   "source": [
    "# Step X: Calculate Moving Average & RSI\n",
    "\n",
    "# 20-day Moving Average\n",
    "data['MA20'] = data['Close'].rolling(window=20).mean()\n",
    "\n",
    "# RSI (14-day)\n",
    "delta = data['Close'].diff()\n",
    "gain = delta.clip(lower=0)\n",
    "loss = -1*delta.clip(upper=0)\n",
    "avg_gain = gain.rolling(14).mean()\n",
    "avg_loss = loss.rolling(14).mean()\n",
    "rs = avg_gain / avg_loss\n",
    "data['RSI'] = 100 - (100 / (1 + rs))"
   ]
  },
  {
   "cell_type": "markdown",
   "id": "a41a4f73",
   "metadata": {},
   "source": [
    "###### The Blue is the Last 60 days of data."
   ]
  },
  {
   "cell_type": "markdown",
   "id": "3e932c0a",
   "metadata": {},
   "source": [
    "#### END OF CODE"
   ]
  }
 ],
 "metadata": {
  "kernelspec": {
   "display_name": "base",
   "language": "python",
   "name": "python3"
  },
  "language_info": {
   "codemirror_mode": {
    "name": "ipython",
    "version": 3
   },
   "file_extension": ".py",
   "mimetype": "text/x-python",
   "name": "python",
   "nbconvert_exporter": "python",
   "pygments_lexer": "ipython3",
   "version": "3.12.7"
  }
 },
 "nbformat": 4,
 "nbformat_minor": 5
}
